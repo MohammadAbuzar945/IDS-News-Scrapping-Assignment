{
  "nbformat": 4,
  "nbformat_minor": 0,
  "metadata": {
    "colab": {
      "name": "Categories.ipynb",
      "provenance": []
    },
    "kernelspec": {
      "name": "python3",
      "display_name": "Python 3"
    },
    "language_info": {
      "name": "python"
    }
  },
  "cells": [
    {
      "cell_type": "code",
      "execution_count": 1,
      "metadata": {
        "id": "2e6BW_p2q-0d"
      },
      "outputs": [],
      "source": [
        "import pandas as pd\n",
        "Sports=pd.read_excel('Sports.xlsx')\n",
        "start=76\n",
        "end=100\n",
        "Sports=Sports[start:end]\n",
        "Business=pd.read_excel('Business.xlsx')\n",
        "Business=Business[start:end]\n",
        "Science=pd.read_excel('Science.xlsx')\n",
        "Science=Science[start:end]\n",
        "Health=pd.read_excel('Health.xlsx')\n",
        "Health=Health[start:end]"
      ]
    },
    {
      "cell_type": "code",
      "source": [
        "Sports['News']=Sports['title']+Sports['summery']\n",
        "Sports=Sports.drop(['summery','title','date'],axis=1)"
      ],
      "metadata": {
        "id": "eskrp2E6rQqQ"
      },
      "execution_count": 2,
      "outputs": []
    },
    {
      "cell_type": "code",
      "source": [
        "Business['News']=Business['title']+Business['summery']\n",
        "Business=Business.drop(['summery','title','date'],axis=1)"
      ],
      "metadata": {
        "id": "AyZ3F8RlrDgF"
      },
      "execution_count": 3,
      "outputs": []
    },
    {
      "cell_type": "code",
      "source": [
        "Health['News']=Health['title']+Health['summery']\n",
        "Health=Health.drop(['summery','title','date'],axis=1)"
      ],
      "metadata": {
        "id": "LWZmfF3LrUHZ"
      },
      "execution_count": 4,
      "outputs": []
    },
    {
      "cell_type": "code",
      "source": [
        "Science['News']=Science['title']+Science['summery']\n",
        "Science=Science.drop(['summery','title','date'],axis=1)"
      ],
      "metadata": {
        "id": "YIRC4O10rX1M"
      },
      "execution_count": 5,
      "outputs": []
    },
    {
      "cell_type": "code",
      "source": [
        "frames=[Sports,Health,Science,Business]\n",
        "combine=pd.concat(frames,ignore_index=True,keys=['Index','News','Category','Link'])\n",
        "combine.drop(['Unnamed: 5'],axis=1)\n",
        "combine.index=combine.index+1"
      ],
      "metadata": {
        "id": "U5HRAhF1raM2"
      },
      "execution_count": 6,
      "outputs": []
    },
    {
      "cell_type": "code",
      "source": [
        "combine.info()\n",
        "combine.drop('Unnamed: 5',axis=1)\n",
        "combine.to_excel('ResponseSP19-BCS-089.xlsx')"
      ],
      "metadata": {
        "colab": {
          "base_uri": "https://localhost:8080/"
        },
        "id": "TkXulKDlreI1",
        "outputId": "2dd1c959-7a7c-4a4f-9b1f-7219958fc137"
      },
      "execution_count": 7,
      "outputs": [
        {
          "output_type": "stream",
          "name": "stdout",
          "text": [
            "<class 'pandas.core.frame.DataFrame'>\n",
            "RangeIndex: 96 entries, 1 to 96\n",
            "Data columns (total 4 columns):\n",
            " #   Column      Non-Null Count  Dtype \n",
            "---  ------      --------------  ----- \n",
            " 0   category    96 non-null     object\n",
            " 1   link        96 non-null     object\n",
            " 2   Unnamed: 5  0 non-null      object\n",
            " 3   News        96 non-null     object\n",
            "dtypes: object(4)\n",
            "memory usage: 3.1+ KB\n"
          ]
        }
      ]
    },
    {
      "cell_type": "code",
      "source": [
        "combine.to_excel('Response.xlsx')"
      ],
      "metadata": {
        "id": "ZX7jEF3brnZJ"
      },
      "execution_count": 8,
      "outputs": []
    }
  ]
}